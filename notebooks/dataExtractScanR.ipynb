{
 "cells": [
  {
   "cell_type": "code",
   "execution_count": 1,
   "id": "59183772",
   "metadata": {},
   "outputs": [],
   "source": [
    "import requests\n",
    "import pandas as pd"
   ]
  },
  {
   "cell_type": "code",
   "execution_count": 2,
   "id": "016b6195",
   "metadata": {},
   "outputs": [],
   "source": [
    "SCANR_API_URL='https://scanr-api.enseignementsup-recherche.gouv.fr/elasticsearch/publications/_search'\n",
    "SCANR_API_TOKEN='Basic *****'\n",
    "header = {'Authorization': SCANR_API_TOKEN}"
   ]
  },
  {
   "cell_type": "code",
   "execution_count": 82,
   "id": "e401b326",
   "metadata": {},
   "outputs": [],
   "source": [
    "must_block = []\n",
    "for q in ['athlete']:\n",
    "    must_block.append( {\n",
    "                    \"query_string\": {\n",
    "                        \"fields\": [\"title.default\",\n",
    "                        \"title.fr\", \"title.en\",\n",
    "                                   \"keywords.en\", \"keywords.fr\", \"keywords.default\",\n",
    "                                   \"domains.label.default\", \"domains.label.fr\", \"domains.label.en\",\n",
    "                                   \"summary.default\", \"summary.fr\", \"summary.en\",\n",
    "                                  \"alternativeSummary.default\", \"alternativeSummary.fr\", \"alternativeSummary.en\"],\n",
    "                        \"query\": f'\"{q}\"'\n",
    "                    }})\n",
    "\n",
    "json = {\n",
    "        \"size\": 10000,\n",
    "        \"query\": {\n",
    "            \"bool\": {\n",
    "                \"filter\":[\n",
    "                                   {\n",
    "                       \"terms\": {\"authors.role.keyword\": [\"author\", \"directeurthese\"]}\n",
    "                    },\n",
    "                    {\n",
    "                       \"terms\": {\"year\": [2018, 2019, 2020, 2021, 2022, 2023]}\n",
    "                    } \n",
    "                ],\n",
    "                \"must\": must_block\n",
    "            }\n",
    "        },\n",
    "        \"aggs\":{\n",
    "            \"idref\":{ \"terms\": {\n",
    "                \"field\": \"authors.person.id.keyword\",\n",
    "                \"size\":10\n",
    "            }\n",
    "                    }\n",
    "        }\n",
    "    }\n",
    "\n",
    "r = requests.post(SCANR_API_URL, json=json, headers=header).json()\n",
    "    "
   ]
  },
  {
   "cell_type": "code",
   "execution_count": 101,
   "id": "1d534b81",
   "metadata": {},
   "outputs": [
    {
     "data": {
      "text/plain": [
       "{'idref': {'doc_count_error_upper_bound': 0,\n",
       "  'sum_other_doc_count': 4212,\n",
       "  'buckets': [{'key': 'idref128108630', 'doc_count': 44},\n",
       "   {'key': 'idref145417093', 'doc_count': 39},\n",
       "   {'key': 'idref113270283', 'doc_count': 29},\n",
       "   {'key': 'idref172802024', 'doc_count': 28},\n",
       "   {'key': 'idref087560917', 'doc_count': 23},\n",
       "   {'key': 'idref203009983', 'doc_count': 23},\n",
       "   {'key': 'idref160686962', 'doc_count': 22},\n",
       "   {'key': 'idref035682485', 'doc_count': 20},\n",
       "   {'key': 'idref074621866', 'doc_count': 20},\n",
       "   {'key': 'idref074575902', 'doc_count': 19}]}}"
      ]
     },
     "execution_count": 101,
     "metadata": {},
     "output_type": "execute_result"
    }
   ],
   "source": [
    "r['aggregations']"
   ]
  },
  {
   "cell_type": "code",
   "execution_count": 102,
   "id": "99497de8",
   "metadata": {},
   "outputs": [
    {
     "data": {
      "text/plain": [
       "1518"
      ]
     },
     "execution_count": 102,
     "metadata": {},
     "output_type": "execute_result"
    }
   ],
   "source": [
    "len(r['hits']['hits'])"
   ]
  },
  {
   "cell_type": "code",
   "execution_count": 85,
   "id": "55430072",
   "metadata": {},
   "outputs": [],
   "source": [
    "import networkx as nx"
   ]
  },
  {
   "cell_type": "code",
   "execution_count": 99,
   "id": "85c41a27",
   "metadata": {},
   "outputs": [
    {
     "name": "stdout",
     "output_type": "stream",
     "text": [
      "1042\n",
      "2173\n"
     ]
    }
   ],
   "source": [
    "NB_MAX_COAUTHORS = 20\n",
    "NB_MIN_PUBLICATIONS = 5\n",
    "\n",
    "G=nx.Graph()\n",
    "\n",
    "all_edges = {}\n",
    "    \n",
    "for e in r['hits']['hits']:\n",
    "    elt = e['_source']\n",
    "    authors = elt.get('authors')\n",
    "    if len(authors) > NB_MAX_COAUTHORS:\n",
    "        continue\n",
    "    currentNodes = []\n",
    "    for aut in elt.get('authors'):\n",
    "        if 'person' in aut:\n",
    "            #currentNode = aut['person']['fullName'] + '(' + aut['person']['id'] + ')'\n",
    "            currentNode = aut['person']['id']\n",
    "            #print(currentNode)\n",
    "            #print(1/0)\n",
    "        elif 'fullName' in aut:\n",
    "            currentNode = aut['fullName']\n",
    "        else:\n",
    "            continue\n",
    "        currentNodes.append(currentNode)\n",
    "    for node in currentNodes:\n",
    "        if node not in all_edges:\n",
    "            all_edges[node] = {'nb_publis': 0, 'coauthors':{}}\n",
    "        all_edges[node]['nb_publis'] += 1\n",
    "        for j_node in currentNodes:\n",
    "            if node <  j_node:\n",
    "                if j_node not in  all_edges[node]['coauthors']:\n",
    "                    all_edges[node]['coauthors'][j_node] = 0\n",
    "                all_edges[node]['coauthors'][j_node] += 1\n",
    "                \n",
    "            \n",
    "for n in all_edges:\n",
    "    if all_edges[n]['nb_publis'] < NB_MIN_PUBLICATIONS:\n",
    "        continue\n",
    "    for m in all_edges[n]['coauthors']:\n",
    "        G.add_edge(n, m, weight = all_edges[n]['coauthors'][m])\n",
    "                \n",
    "\n",
    "print(G.number_of_nodes())\n",
    "print(G.number_of_edges())\n",
    "\n",
    "#print(len(nb_publi_per_node))\n",
    "#print(len(edges))\n",
    "nx.write_graphml_lxml(G, 'athelete.graphml')"
   ]
  },
  {
   "cell_type": "code",
   "execution_count": 97,
   "id": "0ceab2ee",
   "metadata": {},
   "outputs": [],
   "source": [
    "#all_edges['idref050803476']"
   ]
  },
  {
   "cell_type": "code",
   "execution_count": null,
   "id": "30570164",
   "metadata": {},
   "outputs": [],
   "source": []
  },
  {
   "cell_type": "code",
   "execution_count": 98,
   "id": "03f8cef2",
   "metadata": {},
   "outputs": [
    {
     "data": {
      "text/plain": [
       "{'nb_publis': 45,\n",
       " 'coauthors': {'idref258075392': 14,\n",
       "  'idref172802024': 29,\n",
       "  'idref172801869': 2,\n",
       "  'idref201723441': 3,\n",
       "  'idref160177626': 14,\n",
       "  'idref233667954': 13,\n",
       "  'idref167362852': 1,\n",
       "  'idref132431610': 5,\n",
       "  'idref185611451': 1,\n",
       "  'idref195768191': 1,\n",
       "  'idref157221849': 2,\n",
       "  'idref186344295': 1,\n",
       "  'idref230609732': 2,\n",
       "  'idref151243069': 1,\n",
       "  'idref258716304': 1,\n",
       "  'idref230622097': 1}}"
      ]
     },
     "execution_count": 98,
     "metadata": {},
     "output_type": "execute_result"
    }
   ],
   "source": [
    "all_edges['idref128108630']"
   ]
  },
  {
   "cell_type": "code",
   "execution_count": null,
   "id": "fe52ca99",
   "metadata": {},
   "outputs": [],
   "source": []
  }
 ],
 "metadata": {
  "kernelspec": {
   "display_name": "Python 3",
   "language": "python",
   "name": "python3"
  },
  "language_info": {
   "codemirror_mode": {
    "name": "ipython",
    "version": 3
   },
   "file_extension": ".py",
   "mimetype": "text/x-python",
   "name": "python",
   "nbconvert_exporter": "python",
   "pygments_lexer": "ipython3",
   "version": "3.9.1"
  }
 },
 "nbformat": 4,
 "nbformat_minor": 5
}
