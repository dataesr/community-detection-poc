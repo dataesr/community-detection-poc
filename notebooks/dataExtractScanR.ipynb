{
 "cells": [
  {
   "cell_type": "code",
   "execution_count": 1,
   "id": "59183772",
   "metadata": {},
   "outputs": [],
   "source": [
    "import requests\n",
    "import pandas as pd"
   ]
  },
  {
   "cell_type": "code",
   "execution_count": 2,
   "id": "016b6195",
   "metadata": {},
   "outputs": [],
   "source": [
    "SCANR_API_URL='https://scanr-api.enseignementsup-recherche.gouv.fr/elasticsearch/publications/_search'\n",
    "SCANR_API_TOKEN='Basic *****'\n",
    "header = {'Authorization': SCANR_API_TOKEN}"
   ]
  },
  {
   "cell_type": "code",
   "execution_count": 82,
   "id": "e401b326",
   "metadata": {},
   "outputs": [],
   "source": [
    "must_block = []\n",
    "for q in ['athlete']:\n",
    "    must_block.append( {\n",
    "                    \"query_string\": {\n",
    "                        \"fields\": [\"title.default\",\n",
    "                        \"title.fr\", \"title.en\",\n",
    "                                   \"keywords.en\", \"keywords.fr\", \"keywords.default\",\n",
    "                                   \"domains.label.default\", \"domains.label.fr\", \"domains.label.en\",\n",
    "                                   \"summary.default\", \"summary.fr\", \"summary.en\",\n",
    "                                  \"alternativeSummary.default\", \"alternativeSummary.fr\", \"alternativeSummary.en\"],\n",
    "                        \"query\": f'\"{q}\"'\n",
    "                    }})\n",
    "\n",
    "json = {\n",
    "        \"size\": 10000,\n",
    "        \"query\": {\n",
    "            \"bool\": {\n",
    "                \"filter\":[\n",
    "                                   {\n",
    "                       \"terms\": {\"authors.role.keyword\": [\"author\", \"directeurthese\"]}\n",
    "                    },\n",
    "                    {\n",
    "                       \"terms\": {\"year\": [2018, 2019, 2020, 2021, 2022, 2023]}\n",
    "                    } \n",
    "                ],\n",
    "                \"must\": must_block\n",
    "            }\n",
    "        },\n",
    "        \"aggs\":{\n",
    "            \"idref\":{ \"terms\": {\n",
    "                \"field\": \"authors.person.id.keyword\",\n",
    "                \"size\":10\n",
    "            }\n",
    "                    }\n",
    "        }\n",
    "    }\n",
    "\n",
    "r = requests.post(SCANR_API_URL, json=json, headers=header).json()\n",
    "    "
   ]
  },
  {
   "cell_type": "code",
   "execution_count": 104,
   "id": "cfea3fbe",
   "metadata": {},
   "outputs": [
    {
     "data": {
      "text/plain": [
       "{'size': 10000,\n",
       " 'query': {'bool': {'filter': [{'terms': {'authors.role.keyword': ['author',\n",
       "       'directeurthese']}},\n",
       "    {'terms': {'year': [2018, 2019, 2020, 2021, 2022, 2023]}}],\n",
       "   'must': [{'query_string': {'fields': ['title.default',\n",
       "       'title.fr',\n",
       "       'title.en',\n",
       "       'keywords.en',\n",
       "       'keywords.fr',\n",
       "       'keywords.default',\n",
       "       'domains.label.default',\n",
       "       'domains.label.fr',\n",
       "       'domains.label.en',\n",
       "       'summary.default',\n",
       "       'summary.fr',\n",
       "       'summary.en',\n",
       "       'alternativeSummary.default',\n",
       "       'alternativeSummary.fr',\n",
       "       'alternativeSummary.en'],\n",
       "      'query': '\"athlete\"'}}]}},\n",
       " 'aggs': {'idref': {'terms': {'field': 'authors.person.id.keyword',\n",
       "    'size': 10}}}}"
      ]
     },
     "execution_count": 104,
     "metadata": {},
     "output_type": "execute_result"
    }
   ],
   "source": [
    "json"
   ]
  },
  {
   "cell_type": "code",
   "execution_count": 101,
   "id": "82161c88",
   "metadata": {},
   "outputs": [
    {
     "data": {
      "text/plain": [
       "{'idref': {'doc_count_error_upper_bound': 0,\n",
       "  'sum_other_doc_count': 4212,\n",
       "  'buckets': [{'key': 'idref128108630', 'doc_count': 44},\n",
       "   {'key': 'idref145417093', 'doc_count': 39},\n",
       "   {'key': 'idref113270283', 'doc_count': 29},\n",
       "   {'key': 'idref172802024', 'doc_count': 28},\n",
       "   {'key': 'idref087560917', 'doc_count': 23},\n",
       "   {'key': 'idref203009983', 'doc_count': 23},\n",
       "   {'key': 'idref160686962', 'doc_count': 22},\n",
       "   {'key': 'idref035682485', 'doc_count': 20},\n",
       "   {'key': 'idref074621866', 'doc_count': 20},\n",
       "   {'key': 'idref074575902', 'doc_count': 19}]}}"
      ]
     },
     "execution_count": 101,
     "metadata": {},
     "output_type": "execute_result"
    }
   ],
   "source": [
    "r['aggregations']"
   ]
  },
  {
   "cell_type": "code",
   "execution_count": 102,
   "id": "99497de8",
   "metadata": {},
   "outputs": [
    {
     "data": {
      "text/plain": [
       "1518"
      ]
     },
     "execution_count": 102,
     "metadata": {},
     "output_type": "execute_result"
    }
   ],
   "source": [
    "len(r['hits']['hits'])"
   ]
  },
  {
   "cell_type": "code",
   "execution_count": 85,
   "id": "55430072",
   "metadata": {},
   "outputs": [],
   "source": [
    "import networkx as nx"
   ]
  },
  {
   "cell_type": "code",
   "execution_count": 120,
   "id": "85c41a27",
   "metadata": {},
   "outputs": [
    {
     "name": "stdout",
     "output_type": "stream",
     "text": [
      "remove publi doi10.5114/biolsport.2022.117576\n",
      "remove publi doi10.1007/s40279-022-01776-y\n",
      "remove publi doi10.1123/ijspp.2021-0543\n",
      "remove publi doi10.1007/s40279-021-01573-z\n",
      "remove publi doi10.1186/s40798-022-00469-0\n",
      "remove publi doi10.1177/2047487319834852\n",
      "remove publi doi10.3389/fnut.2022.925092\n",
      "remove publi doi10.1136/bjsports-2022-105567\n",
      "remove publi doi10.1007/s40279-021-01601-y\n",
      "remove publi doi10.1136/bmjsem-2021-001273\n",
      "remove publi doi10.1136/bjsports-2022-105759\n",
      "remove publi doi10.1371/journal.pone.0243354\n",
      "remove publi doi10.3389/fphys.2022.904778\n",
      "remove publi doi10.1007/s40279-021-01502-0\n",
      "remove publi doi10.1136/bjsports-2021-104087\n",
      "remove publi doi10.1371/journal.pone.0257719\n",
      "remove publi doi10.1161/circresaha.119.316386\n",
      "remove publi doi10.1186/s12955-021-01825-6\n",
      "remove publi doi10.1016/j.hfc.2018.03.010\n",
      "remove publi doi10.1016/j.phrs.2020.104719\n",
      "remove publi doi10.1016/j.ijcha.2021.100790\n",
      "remove publi doi10.1093/eurheartj/ehy730\n",
      "remove publi doi10.1097/ee9.0000000000000166\n",
      "remove publi doi10.2196/38027\n",
      "remove publi doi10.1136/bjsports-2021-104569\n",
      "remove publi doi10.1093/europace/euaa106\n",
      "remove publi pmid35819399\n",
      "remove publi doi10.1016/j.pbiomolbio.2021.06.008\n",
      "remove publi doi10.1093/cercor/bhac441\n",
      "remove publi doi10.1136/bmjsem-2021-001171\n",
      "remove publi doi10.1093/eurjpc/zwab058\n",
      "remove publi doi10.21203/rs.3.rs-410935/v1\n",
      "\n",
      "removed 32\n",
      "nb nodes = 1399\n",
      "nb edges = 2844\n"
     ]
    }
   ],
   "source": [
    "fullNameIdref = {}\n",
    "\n",
    "\n",
    "NB_MAX_COAUTHORS = 20\n",
    "NB_MIN_PUBLICATIONS = 5\n",
    "\n",
    "nb_removed = 0\n",
    "\n",
    "G=nx.Graph()\n",
    "\n",
    "all_edges = {}\n",
    "    \n",
    "for e in r['hits']['hits']:\n",
    "    elt = e['_source']\n",
    "    authors = elt.get('authors')\n",
    "    if len(authors) > NB_MAX_COAUTHORS:\n",
    "        print('remove publi ' + str(e['_source']['id']))\n",
    "        nb_removed += 1\n",
    "        continue\n",
    "    currentNodes = []\n",
    "    for aut in elt.get('authors'):\n",
    "        if 'person' in aut:\n",
    "            idref = aut['person']['id']\n",
    "            if idref not in fullNameIdref:\n",
    "                fullNameIdref[idref] = aut['fullName']\n",
    "            currentNode = fullNameIdref[idref]\n",
    "            #print(currentNode)\n",
    "            #print(1/0)\n",
    "        elif 'fullName' in aut:\n",
    "            currentNode = aut['fullName']\n",
    "        else:\n",
    "            continue\n",
    "        currentNodes.append(currentNode)\n",
    "    for node in currentNodes:\n",
    "        if node not in all_edges:\n",
    "            all_edges[node] = {'nb_publis': 0, 'coauthors':{}}\n",
    "        all_edges[node]['nb_publis'] += 1\n",
    "        for j_node in currentNodes:\n",
    "            if node <  j_node:\n",
    "                if j_node not in  all_edges[node]['coauthors']:\n",
    "                    all_edges[node]['coauthors'][j_node] = 0\n",
    "                all_edges[node]['coauthors'][j_node] += 1\n",
    "                \n",
    "            \n",
    "for n in all_edges:\n",
    "    if all_edges[n]['nb_publis'] < NB_MIN_PUBLICATIONS:\n",
    "        continue\n",
    "    G.add_node(n, size = all_edges[n]['nb_publis'])\n",
    "    for m in all_edges[n]['coauthors']:\n",
    "        G.add_edge(n, m, weight = all_edges[n]['coauthors'][m])\n",
    "   \n",
    "print()\n",
    "print('removed '+str(nb_removed))\n",
    "print('nb nodes = '+str(G.number_of_nodes()))\n",
    "print('nb edges = '+str(G.number_of_edges()))\n",
    "\n",
    "#print(len(nb_publi_per_node))\n",
    "#print(len(edges))\n",
    "nx.write_graphml_lxml(G, 'athelete.graphml')"
   ]
  },
  {
   "cell_type": "code",
   "execution_count": 112,
   "id": "0b41309a",
   "metadata": {},
   "outputs": [],
   "source": [
    "#aut"
   ]
  },
  {
   "cell_type": "code",
   "execution_count": 113,
   "id": "ac868a3c",
   "metadata": {},
   "outputs": [
    {
     "data": {
      "text/plain": [
       "{'nb_publis': 18,\n",
       " 'coauthors': {'Frédéric Schnell': 9,\n",
       "  'Nathalie Behar': 1,\n",
       "  'Solène Le Douairon Lahaye': 3,\n",
       "  'Gaëlle Kervio': 1,\n",
       "  'Vincent Menard': 1,\n",
       "  'Thibault Lachard': 1,\n",
       "  'Guy Carrault': 2,\n",
       "  'Mats Borjesson': 2,\n",
       "  'Mikael Dellborg': 2,\n",
       "  'Josef Niebauer': 2,\n",
       "  'Martin Halle': 2,\n",
       "  'Paolo Emilio Adami': 1,\n",
       "  'Stefano Caselli': 2,\n",
       "  'Michael Papadakis': 2,\n",
       "  'Hanne Rasmusen': 2,\n",
       "  'Luis Serratosa': 2,\n",
       "  'Sanjay Sharma': 2,\n",
       "  'T. Fourme': 1,\n",
       "  'P. Chevalier': 1,\n",
       "  'P. De Groote': 1,\n",
       "  'I. Denjoy': 1,\n",
       "  'Stéphane Doutreleau': 2,\n",
       "  'G. Habib': 1,\n",
       "  'N. Mansencal': 1,\n",
       "  'P. Maury': 1,\n",
       "  'V. Probst': 1,\n",
       "  'P. Reant': 1,\n",
       "  'J. Trochu': 1,\n",
       "  'L. Uzan': 1,\n",
       "  'P. Charron': 1,\n",
       "  'Jean-Claude Chatard': 1,\n",
       "  'Richard Donnadieu': 1,\n",
       "  'Jean-Paul Grangeon': 1,\n",
       "  'Jean-Marie Sabot': 1,\n",
       "  'Régis Dacquin': 1,\n",
       "  'François-Xavier Raby': 1,\n",
       "  'Gérard Papouin': 1,\n",
       "  'Satu Viali': 1,\n",
       "  'Frédéric Roche': 1,\n",
       "  'Karl Isaaz': 1,\n",
       "  'Jean-Claude Barthélémy': 1,\n",
       "  'Mathias Poussel': 2,\n",
       "  'Laure Joly': 1,\n",
       "  'Lucie Cassagnes': 2,\n",
       "  'Xavier Bigard': 2,\n",
       "  'Guido Claessen': 1,\n",
       "  'Jan Bogaert': 1,\n",
       "  'Mathias Claeys': 1,\n",
       "  'Nele Pattyn': 1,\n",
       "  'Frederik De Buck': 1,\n",
       "  'Steven Dymarkowski': 1,\n",
       "  'Piet Claus': 1,\n",
       "  'Johan Van Cleemput': 1,\n",
       "  'Hein Heidbuchel': 1,\n",
       "  'L. Chevalier': 2,\n",
       "  'P. Sosner': 1,\n",
       "  'M. Abbot': 1,\n",
       "  'J. Jaussaud': 2,\n",
       "  'Luc Corneloup': 1,\n",
       "  'Laurent Gencel': 1,\n",
       "  'Stephanie Clement‐Guinaudeau': 1,\n",
       "  'Thomas Pospiech': 1}}"
      ]
     },
     "execution_count": 113,
     "metadata": {},
     "output_type": "execute_result"
    }
   ],
   "source": [
    "all_edges['François Carré']"
   ]
  },
  {
   "cell_type": "code",
   "execution_count": 97,
   "id": "28e89202",
   "metadata": {},
   "outputs": [],
   "source": [
    "#all_edges['idref050803476']"
   ]
  },
  {
   "cell_type": "markdown",
   "id": "0c8d2902",
   "metadata": {},
   "source": [
    "- spatialisation ForceAtlas2 (avec / sans linlog ?)\n",
    "- taille noeuds = nombre de publications\n",
    "- modularity class ou inference stat pour coloriser les noeuds\n"
   ]
  },
  {
   "cell_type": "code",
   "execution_count": 98,
   "id": "b9afaba7",
   "metadata": {},
   "outputs": [
    {
     "data": {
      "text/plain": [
       "{'nb_publis': 45,\n",
       " 'coauthors': {'idref258075392': 14,\n",
       "  'idref172802024': 29,\n",
       "  'idref172801869': 2,\n",
       "  'idref201723441': 3,\n",
       "  'idref160177626': 14,\n",
       "  'idref233667954': 13,\n",
       "  'idref167362852': 1,\n",
       "  'idref132431610': 5,\n",
       "  'idref185611451': 1,\n",
       "  'idref195768191': 1,\n",
       "  'idref157221849': 2,\n",
       "  'idref186344295': 1,\n",
       "  'idref230609732': 2,\n",
       "  'idref151243069': 1,\n",
       "  'idref258716304': 1,\n",
       "  'idref230622097': 1}}"
      ]
     },
     "execution_count": 98,
     "metadata": {},
     "output_type": "execute_result"
    }
   ],
   "source": [
    "all_edges['idref128108630']"
   ]
  },
  {
   "cell_type": "code",
   "execution_count": null,
   "id": "61bd2e4f",
   "metadata": {},
   "outputs": [],
   "source": []
  }
 ],
 "metadata": {
  "kernelspec": {
   "display_name": "Python 3",
   "language": "python",
   "name": "python3"
  },
  "language_info": {
   "codemirror_mode": {
    "name": "ipython",
    "version": 3
   },
   "file_extension": ".py",
   "mimetype": "text/x-python",
   "name": "python",
   "nbconvert_exporter": "python",
   "pygments_lexer": "ipython3",
   "version": "3.9.1"
  }
 },
 "nbformat": 4,
 "nbformat_minor": 5
}
