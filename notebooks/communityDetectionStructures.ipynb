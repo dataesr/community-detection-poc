{
 "cells": [
  {
   "cell_type": "code",
   "execution_count": 38,
   "metadata": {},
   "outputs": [],
   "source": [
    "import os\n",
    "import sys\n",
    "import requests\n",
    "\n",
    "import mercury\n",
    "from dotenv import load_dotenv\n",
    "\n",
    "import networkx as nx\n",
    "from netgraph import Graph, InteractiveGraph\n",
    "from ipysigma import Sigma\n",
    "from pyvis.network import Network\n",
    "\n",
    "import pandas as pd\n",
    "from pandas import json_normalize\n",
    "\n",
    "import matplotlib\n",
    "import matplotlib.pyplot as plt\n",
    "\n",
    "import itertools\n",
    "from itertools import combinations"
   ]
  },
  {
   "cell_type": "code",
   "execution_count": 2,
   "metadata": {},
   "outputs": [
    {
     "data": {
      "application/mercury+json": {
       "allow_download": true,
       "code_uid": "App.0.40.25.2-rande2e6d846",
       "continuous_update": true,
       "description": "",
       "full_screen": true,
       "model_id": "mercury-app",
       "notify": "{}",
       "output": "app",
       "schedule": "",
       "show_code": false,
       "show_prompt": false,
       "show_sidebar": true,
       "static_notebook": true,
       "stop_on_error": false,
       "title": "Display JSON",
       "widget": "App"
      },
      "text/html": [
       "<h3>Mercury Application</h3><small>This output won't appear in the web app.</small>"
      ],
      "text/plain": [
       "mercury.App"
      ]
     },
     "metadata": {},
     "output_type": "display_data"
    },
    {
     "data": {
      "text/plain": [
       "True"
      ]
     },
     "execution_count": 2,
     "metadata": {},
     "output_type": "execute_result"
    }
   ],
   "source": [
    "# Load app for json display\n",
    "mercury.App(title=\"Display JSON\", static_notebook=True)\n",
    "\n",
    "# Load server environment\n",
    "load_dotenv(os.path.dirname(sys.path[1]) + '/server/.env')"
   ]
  },
  {
   "cell_type": "code",
   "execution_count": 3,
   "metadata": {},
   "outputs": [],
   "source": [
    "# Elastic search info\n",
    "SCANR_API_URL = os.environ.get('SCANR_API_URL')\n",
    "SCANR_API_TOKEN = os.environ.get('SCANR_API_TOKEN')\n",
    "header = {'Authorization': SCANR_API_TOKEN}"
   ]
  },
  {
   "cell_type": "code",
   "execution_count": 4,
   "metadata": {},
   "outputs": [],
   "source": [
    "# Query json\n",
    "json_query = {\n",
    "    \"size\": 5000,\n",
    "    \"_source\": [\n",
    "        \"id\",\n",
    "        \"authors\",\n",
    "        \"domains\",\n",
    "        \"title\",\n",
    "        \"year\",\n",
    "        \"isOa\",\n",
    "        \"type\",\n",
    "        \"affiliations\",\n",
    "        \"keywords\",\n",
    "        \"summary\",\n",
    "        \"alternativeSummary\"\n",
    "    ],\n",
    "    \"query\": {\n",
    "        \"bool\": {\n",
    "            \"filter\": [\n",
    "                {\"terms\": {\"authors.role.keyword\": [\"author\", \"directeurthese\"]}},\n",
    "                {\"range\": {\"year\": {\"gte\": \"2018\", \"lte\": \"2023\"}}},\n",
    "                {\"terms\": {\"affiliations.id.keyword\": [\"196012231\"]}},\n",
    "            ],\n",
    "        }\n",
    "    }\n",
    "}\n",
    "\n",
    "# Request answer\n",
    "json_answer = requests.post(SCANR_API_URL, json=json_query, headers=header).json()"
   ]
  },
  {
   "cell_type": "code",
   "execution_count": null,
   "metadata": {},
   "outputs": [],
   "source": [
    "# Display json\n",
    "mercury.JSON(json_answer)"
   ]
  },
  {
   "cell_type": "code",
   "execution_count": 10,
   "metadata": {},
   "outputs": [
    {
     "name": "stdout",
     "output_type": "stream",
     "text": [
      "Number of publications : 3510\n"
     ]
    }
   ],
   "source": [
    "# Get publications data\n",
    "works = list(map(lambda x: x.get(\"_source\"), json_answer.get(\"hits\").get(\"hits\")))\n",
    "print(f\"Number of publications : {len(works)}\")"
   ]
  },
  {
   "cell_type": "code",
   "execution_count": 14,
   "metadata": {},
   "outputs": [
    {
     "name": "stdout",
     "output_type": "stream",
     "text": [
      "Number of publications filtered : 3405/3510\n"
     ]
    }
   ],
   "source": [
    "# Filter publications\n",
    "max_affiliations = 20\n",
    "works_filter = list(filter(lambda x: len(x.get(\"affiliations\")) < max_affiliations, works))\n",
    "print(f\"Number of publications filtered : {len(works_filter)}/{len(works)}\")"
   ]
  },
  {
   "cell_type": "code",
   "execution_count": 142,
   "metadata": {},
   "outputs": [
    {
     "name": "stdout",
     "output_type": "stream",
     "text": [
      "Number of nodes (structures) found : 978\n"
     ]
    }
   ],
   "source": [
    "# Compute nodes (structures)\n",
    "\n",
    "nodes_dict = {}\n",
    "for work in works_filter:\n",
    "        work_id = work.get(\"id\")\n",
    "        for affiliation in work.get(\"affiliations\") or {}:\n",
    "            affiliation_id = affiliation.get(\"id\")\n",
    "            country = affiliation.get(\"address\")[0].get(\"country\") if (\"address\" in affiliation) else None\n",
    "            gps = affiliation.get(\"address\")[0].get(\"gps\") if (\"address\" in affiliation) else None\n",
    "            if affiliation_id and gps and country == \"France\":\n",
    "                if affiliation_id in nodes_dict:\n",
    "                    nodes_dict[affiliation_id][\"publications\"].append(work_id)\n",
    "                else:\n",
    "                    nodes_dict[affiliation_id] = {\"id\": affiliation_id, \n",
    "                                             \"name\": affiliation.get(\"label\").get(\"en\") or affiliation.get(\"label\").get(\"default\"),\n",
    "                                             \"publications\": [work_id],\n",
    "                                             \"x\": gps.get(\"lon\"),\n",
    "                                             \"y\": gps.get(\"lat\")}\n",
    "\n",
    "nodes = list(nodes_dict.values())\n",
    "print(f\"Number of nodes (structures) found : {len(nodes)}\")"
   ]
  },
  {
   "cell_type": "code",
   "execution_count": 143,
   "metadata": {},
   "outputs": [],
   "source": [
    "# Compute edges (publications)\n",
    "edges = []\n",
    "for source, target in combinations(nodes, 2):\n",
    "    similar_publications = set(source.get(\"publications\")) & set(target.get(\"publications\"))\n",
    "    if similar_publications:\n",
    "        edges.append({\"source\":source.get(\"id\"),\n",
    "                      \"target\":target.get(\"id\"),\n",
    "                      \"weight\": len(similar_publications)})"
   ]
  },
  {
   "cell_type": "code",
   "execution_count": 144,
   "metadata": {},
   "outputs": [],
   "source": [
    "# Create graph\n",
    "G = nx.Graph()\n",
    "\n",
    "# Add nodes\n",
    "for node in nodes:\n",
    "    G.add_node(node.get(\"id\"), label=node.get(\"name\"), weight=len(node.get(\"publications\")))\n",
    "\n",
    "# Add edges\n",
    "for edge in edges:\n",
    "    G.add_edge(edge.get(\"source\"), edge.get(\"target\"), weight=edge.get(\"weight\"))"
   ]
  },
  {
   "cell_type": "code",
   "execution_count": 145,
   "metadata": {},
   "outputs": [
    {
     "name": "stdout",
     "output_type": "stream",
     "text": [
      "Graph filtered : 96 \n",
      "Minimum number of works required: 24\n"
     ]
    }
   ],
   "source": [
    "# Filter graph\n",
    "max_order = 100\n",
    "min_weight = 1\n",
    "\n",
    "while G.order() > max_order:\n",
    "    min_weight += 1\n",
    "    G = G.subgraph([node for node, attrdict in G.nodes.items() if attrdict.get(\"weight\") >= min_weight]) \n",
    "    # print(f\"Minimum number of works auto computed : {min_weight} (order={G.order()})\")\n",
    "\n",
    "print(f\"Graph filtered : {len(G.nodes) or 0} \\nMinimum number of works required: {min_weight}\")"
   ]
  },
  {
   "cell_type": "code",
   "execution_count": 146,
   "metadata": {},
   "outputs": [
    {
     "data": {
      "application/vnd.jupyter.widget-view+json": {
       "model_id": "9f6f216486254a0c8e307d1efdbb7143",
       "version_major": 2,
       "version_minor": 0
      },
      "text/plain": [
       "Sigma(nx.Graph with 96 nodes and 2,019 edges)"
      ]
     },
     "execution_count": 146,
     "metadata": {},
     "output_type": "execute_result"
    }
   ],
   "source": [
    "# Use sigma widget\n",
    "Sigma(G, node_size=G.degree, \n",
    "      node_metrics={\"community\": \"louvain\"}, \n",
    "      node_color=\"community\",\n",
    "      node_border_color_from=\"node\",\n",
    "      layout=nodes_dict,\n",
    "      default_edge_type=\"curve\",\n",
    "      hide_edges_on_move=True)"
   ]
  },
  {
   "cell_type": "code",
   "execution_count": 103,
   "metadata": {},
   "outputs": [],
   "source": [
    "import folium\n",
    "\n",
    "m = folium.Map()"
   ]
  },
  {
   "cell_type": "code",
   "execution_count": null,
   "metadata": {},
   "outputs": [],
   "source": []
  },
  {
   "cell_type": "code",
   "execution_count": 104,
   "metadata": {},
   "outputs": [
    {
     "data": {
      "text/html": [
       "<div style=\"width:100%;\"><div style=\"position:relative;width:100%;height:0;padding-bottom:60%;\"><span style=\"color:#565656\">Make this Notebook Trusted to load map: File -> Trust Notebook</span><iframe srcdoc=\"&lt;!DOCTYPE html&gt;\n",
       "&lt;html&gt;\n",
       "&lt;head&gt;\n",
       "    \n",
       "    &lt;meta http-equiv=&quot;content-type&quot; content=&quot;text/html; charset=UTF-8&quot; /&gt;\n",
       "    \n",
       "        &lt;script&gt;\n",
       "            L_NO_TOUCH = false;\n",
       "            L_DISABLE_3D = false;\n",
       "        &lt;/script&gt;\n",
       "    \n",
       "    &lt;style&gt;html, body {width: 100%;height: 100%;margin: 0;padding: 0;}&lt;/style&gt;\n",
       "    &lt;style&gt;#map {position:absolute;top:0;bottom:0;right:0;left:0;}&lt;/style&gt;\n",
       "    &lt;script src=&quot;https://cdn.jsdelivr.net/npm/leaflet@1.9.3/dist/leaflet.js&quot;&gt;&lt;/script&gt;\n",
       "    &lt;script src=&quot;https://code.jquery.com/jquery-1.12.4.min.js&quot;&gt;&lt;/script&gt;\n",
       "    &lt;script src=&quot;https://cdn.jsdelivr.net/npm/bootstrap@5.2.2/dist/js/bootstrap.bundle.min.js&quot;&gt;&lt;/script&gt;\n",
       "    &lt;script src=&quot;https://cdnjs.cloudflare.com/ajax/libs/Leaflet.awesome-markers/2.0.2/leaflet.awesome-markers.js&quot;&gt;&lt;/script&gt;\n",
       "    &lt;link rel=&quot;stylesheet&quot; href=&quot;https://cdn.jsdelivr.net/npm/leaflet@1.9.3/dist/leaflet.css&quot;/&gt;\n",
       "    &lt;link rel=&quot;stylesheet&quot; href=&quot;https://cdn.jsdelivr.net/npm/bootstrap@5.2.2/dist/css/bootstrap.min.css&quot;/&gt;\n",
       "    &lt;link rel=&quot;stylesheet&quot; href=&quot;https://netdna.bootstrapcdn.com/bootstrap/3.0.0/css/bootstrap.min.css&quot;/&gt;\n",
       "    &lt;link rel=&quot;stylesheet&quot; href=&quot;https://cdn.jsdelivr.net/npm/@fortawesome/fontawesome-free@6.2.0/css/all.min.css&quot;/&gt;\n",
       "    &lt;link rel=&quot;stylesheet&quot; href=&quot;https://cdnjs.cloudflare.com/ajax/libs/Leaflet.awesome-markers/2.0.2/leaflet.awesome-markers.css&quot;/&gt;\n",
       "    &lt;link rel=&quot;stylesheet&quot; href=&quot;https://cdn.jsdelivr.net/gh/python-visualization/folium/folium/templates/leaflet.awesome.rotate.min.css&quot;/&gt;\n",
       "    \n",
       "            &lt;meta name=&quot;viewport&quot; content=&quot;width=device-width,\n",
       "                initial-scale=1.0, maximum-scale=1.0, user-scalable=no&quot; /&gt;\n",
       "            &lt;style&gt;\n",
       "                #map_316c07f5fce3819bab52831d87ef7fb9 {\n",
       "                    position: relative;\n",
       "                    width: 100.0%;\n",
       "                    height: 100.0%;\n",
       "                    left: 0.0%;\n",
       "                    top: 0.0%;\n",
       "                }\n",
       "                .leaflet-container { font-size: 1rem; }\n",
       "            &lt;/style&gt;\n",
       "        \n",
       "&lt;/head&gt;\n",
       "&lt;body&gt;\n",
       "    \n",
       "    \n",
       "            &lt;div class=&quot;folium-map&quot; id=&quot;map_316c07f5fce3819bab52831d87ef7fb9&quot; &gt;&lt;/div&gt;\n",
       "        \n",
       "&lt;/body&gt;\n",
       "&lt;script&gt;\n",
       "    \n",
       "    \n",
       "            var map_316c07f5fce3819bab52831d87ef7fb9 = L.map(\n",
       "                &quot;map_316c07f5fce3819bab52831d87ef7fb9&quot;,\n",
       "                {\n",
       "                    center: [0, 0],\n",
       "                    crs: L.CRS.EPSG3857,\n",
       "                    zoom: 1,\n",
       "                    zoomControl: true,\n",
       "                    preferCanvas: false,\n",
       "                }\n",
       "            );\n",
       "\n",
       "            \n",
       "\n",
       "        \n",
       "    \n",
       "            var tile_layer_32083d77680a4343fc3872282a3270cc = L.tileLayer(\n",
       "                &quot;https://{s}.tile.openstreetmap.org/{z}/{x}/{y}.png&quot;,\n",
       "                {&quot;attribution&quot;: &quot;Data by \\u0026copy; \\u003ca target=\\&quot;_blank\\&quot; href=\\&quot;http://openstreetmap.org\\&quot;\\u003eOpenStreetMap\\u003c/a\\u003e, under \\u003ca target=\\&quot;_blank\\&quot; href=\\&quot;http://www.openstreetmap.org/copyright\\&quot;\\u003eODbL\\u003c/a\\u003e.&quot;, &quot;detectRetina&quot;: false, &quot;maxNativeZoom&quot;: 18, &quot;maxZoom&quot;: 18, &quot;minZoom&quot;: 0, &quot;noWrap&quot;: false, &quot;opacity&quot;: 1, &quot;subdomains&quot;: &quot;abc&quot;, &quot;tms&quot;: false}\n",
       "            ).addTo(map_316c07f5fce3819bab52831d87ef7fb9);\n",
       "        \n",
       "&lt;/script&gt;\n",
       "&lt;/html&gt;\" style=\"position:absolute;width:100%;height:100%;left:0;top:0;border:none !important;\" allowfullscreen webkitallowfullscreen mozallowfullscreen></iframe></div></div>"
      ],
      "text/plain": [
       "<folium.folium.Map at 0x2559c398990>"
      ]
     },
     "execution_count": 104,
     "metadata": {},
     "output_type": "execute_result"
    }
   ],
   "source": [
    "m"
   ]
  }
 ],
 "metadata": {
  "kernelspec": {
   "display_name": "Python 3",
   "language": "python",
   "name": "python3"
  },
  "language_info": {
   "codemirror_mode": {
    "name": "ipython",
    "version": 3
   },
   "file_extension": ".py",
   "mimetype": "text/x-python",
   "name": "python",
   "nbconvert_exporter": "python",
   "pygments_lexer": "ipython3",
   "version": "3.11.5"
  },
  "orig_nbformat": 4
 },
 "nbformat": 4,
 "nbformat_minor": 2
}
